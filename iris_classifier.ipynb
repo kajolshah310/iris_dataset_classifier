{
 "cells": [
  {
   "cell_type": "code",
   "execution_count": 30,
   "metadata": {
    "id": "hUXdV3L376cA"
   },
   "outputs": [],
   "source": [
    "# load required library\n",
    "import matplotlib.pyplot as plt\n",
    "import numpy as np\n",
    "from sklearn.datasets import load_iris\n",
    "# load dataset\n",
    "x, y = load_iris(return_X_y=True)"
   ]
  },
  {
   "cell_type": "markdown",
   "metadata": {
    "id": "8iwaee_T-Urj"
   },
   "source": [
    "### - Logistic Regression"
   ]
  },
  {
   "cell_type": "code",
   "execution_count": 31,
   "metadata": {
    "id": "9M1DAu9XPY8E"
   },
   "outputs": [],
   "source": [
    "# Do not edit the codes in this cell\n",
    "# We use 100 samples and 2 features for logistic regression function\n",
    "x_lr = x[:100, :2] # class 0 and 1 balanced\n",
    "y_lr = y[:100]"
   ]
  },
  {
   "cell_type": "code",
   "execution_count": 32,
   "metadata": {
    "id": "FeMvHu1L9Vmx"
   },
   "outputs": [
    {
     "name": "stdout",
     "output_type": "stream",
     "text": [
      "[1.  5.4 3.4]\n"
     ]
    }
   ],
   "source": [
    "#Splitting the data into train and test\n",
    "from math import exp\n",
    "import random as rand\n",
    "#train_test_split\n",
    "#from sklearn.model_selection import train_test_split\n",
    "#X_train, X_test, y_train, y_test = train_test_split(x_lr, y_lr, test_size=0.2, random_state=42)\n",
    "\n",
    "def train_test_split(X, y):\n",
    "    ind=np.arange(0,len(X),1)\n",
    "    np.random.shuffle(ind)\n",
    "    training_size=0.8*len(X)\n",
    "    X_train=X[ind[0:int(training_size)]]\n",
    "    X_test=X[ind[int(training_size):len(ind)]]\n",
    "    y_train=y[ind[0:int(training_size)]]\n",
    "    y_test=y[ind[int(training_size):len(ind)]]\n",
    "    return X_train, X_test, y_train, y_test\n",
    "\n",
    "X_train, X_test, y_train, y_test = train_test_split(x_lr, y_lr)\n",
    "X_train=np.insert(X_train,0,1,axis=1)\n",
    "X_test=np.insert(X_test,0,1,axis=1)\n",
    "theta=np.zeros(3)\n",
    "print (X_train[0])"
   ]
  },
  {
   "cell_type": "code",
   "execution_count": 33,
   "metadata": {},
   "outputs": [],
   "source": [
    "#sigmoid function for logistic regression\n",
    "def sigmoid(x):\n",
    "    return 1/(1+np.exp(-x))"
   ]
  },
  {
   "cell_type": "code",
   "execution_count": 34,
   "metadata": {},
   "outputs": [],
   "source": [
    "#calculate error and stochastic gradient descent error\n",
    "def calculate_error(theta, X, y):\n",
    "    ycap=sigmoid(np.dot(np.transpose(theta),X))\n",
    "    error=((ycap-y)**2)/2\n",
    "    return error\n",
    "\n",
    "def calc_grad_desc_error(theta, X, y):\n",
    "    ycap=sigmoid(np.dot(np.transpose(theta),X))\n",
    "    gd_error=(ycap-y)*(ycap)*(1-ycap)*(X)\n",
    "    return gd_error\n"
   ]
  },
  {
   "cell_type": "code",
   "execution_count": 35,
   "metadata": {},
   "outputs": [],
   "source": [
    "#sigmoid function\n",
    "def sigmoid1(coefs, X):\n",
    "    s = np.dot(X,coefs)\n",
    "    s = 1 / (1 + np.exp(-s))\n",
    "    return s\n",
    "\n",
    "#predict function for labels\n",
    "def predict1(coefs, X):\n",
    "    predict_labels=sigmoid1(coefs, X)\n",
    "    for i,j in enumerate(predict_labels):\n",
    "        if j < 0.5:\n",
    "            predict_labels[i] = 0\n",
    "        else:\n",
    "            predict_labels[i] = 1\n",
    "    return predict_labels"
   ]
  },
  {
   "cell_type": "code",
   "execution_count": 36,
   "metadata": {},
   "outputs": [],
   "source": [
    "#stochastic gradient descent -  function to calculate coefficients\n",
    "def coef_sgd(theta,X,y,ln_rate,epoch):\n",
    "    n_theta=theta\n",
    "    error=0\n",
    "    for c in range (0,epoch,1):\n",
    "        ind=rand.randint(0,79)\n",
    "        data=X[ind]\n",
    "        label=y[ind]\n",
    "        pred=sigmoid(np.dot(np.transpose(n_theta),data))\n",
    "#        pred=sigmoid(theta,X)\n",
    "        if(pred>0.5 and label==1):\n",
    "            error=error\n",
    "        elif(pred<0.5 and label==0):\n",
    "            error=error\n",
    "        else:\n",
    "            error=calculate_error(n_theta,data,label)\n",
    "            gd_error=calc_grad_desc_error(n_theta,data,label)\n",
    "            n_theta=n_theta-ln_rate*gd_error \n",
    "    return n_theta"
   ]
  },
  {
   "cell_type": "code",
   "execution_count": 37,
   "metadata": {},
   "outputs": [],
   "source": [
    "#estimate logistic regression coefficicents using stochastic gradient descent and cross entropy loss\n",
    "def cross_entropy_loss(coefs, x, y):\n",
    "    n = x.shape[0]\n",
    "    cross_loss = -(1 / n) * np.sum(y * np.log(sigmoid1(coefs, x)) + (1 - y) * np.log(1 - sigmoid1(coefs, x)))\n",
    "    return cross_loss"
   ]
  },
  {
   "cell_type": "code",
   "execution_count": 38,
   "metadata": {
    "scrolled": true
   },
   "outputs": [],
   "source": [
    "#logistic regression function\n",
    "def logistic_regression(theta,X_train,y_train,X_test,l_rate,n_epoch):\n",
    "#    predictions = []\n",
    "    coefs = coef_sgd(theta,X_train,y_train,l_rate,n_epoch)\n",
    "#    for row in X_test:\n",
    "#        ycap = predict(coefs, row)\n",
    "#        ycap = round(ycap)\n",
    "#        predictions.append(ycap)\n",
    "    return coefs"
   ]
  },
  {
   "cell_type": "code",
   "execution_count": 39,
   "metadata": {},
   "outputs": [],
   "source": [
    "#function to calculate accuracy\n",
    "def accuracy(y_actual, y_predicted):\n",
    "    correct = 0\n",
    "    for i in range(len(y_actual)):\n",
    "        if y_actual[i] == y_predicted[i]:\n",
    "            correct = correct + 1\n",
    "        accu_score = correct / float(len(y_actual)) * 100.0\n",
    "    return accu_score"
   ]
  },
  {
   "cell_type": "code",
   "execution_count": 40,
   "metadata": {
    "scrolled": true
   },
   "outputs": [
    {
     "name": "stdout",
     "output_type": "stream",
     "text": [
      "Final theta values are [-0.00639401  0.02831085 -0.04768857]\n",
      "Cross Entropy loss  0.6788957922342944\n",
      "Predicted labels are : [1. 0. 1. 0. 1. 1. 1. 0. 0. 0. 0. 1. 0. 0. 1. 1. 1. 1. 0. 0.]\n",
      "Accuracy_score is : 100.0\n"
     ]
    }
   ],
   "source": [
    "coefficients = logistic_regression(theta,X_train,y_train,X_test,0.01,1000)\n",
    "print(\"Final theta values are\",coefficients)\n",
    "predict_labels = predict1(coefficients, X_test)\n",
    "accu_score = accuracy(y_test, predict_labels)\n",
    "cross_loss = cross_entropy_loss(coefficients, X_train, y_train)\n",
    "print(\"Cross Entropy loss \",cross_loss)\n",
    "print(\"Predicted labels are :\",predict_labels)\n",
    "print(\"Accuracy_score is :\", accu_score)"
   ]
  },
  {
   "cell_type": "code",
   "execution_count": 41,
   "metadata": {},
   "outputs": [],
   "source": [
    "#The accuracy result is above 90% so it indeed is a good accuracy score"
   ]
  },
  {
   "cell_type": "code",
   "execution_count": 42,
   "metadata": {},
   "outputs": [],
   "source": [
    "#draw model\n",
    "def draw_model(coefficients,X,y):\n",
    "    x_val = [np.min(X[:, 0]-1), np.max(X[:, 1]+3)]\n",
    "    y_val = - (coefficients[0] + np.dot(coefficients[1], x_val)) / coefficients[2]\n",
    "    plt.clf()\n",
    "    data = np.c_[X,y]\n",
    "    iris_setosa = data[np.where(data[:,2] == 0)]\n",
    "    iris_versicolor = data[np.where(data[:,2] == 1)]\n",
    "    plt.title(\"Iris plot\")\n",
    "    plt.xlabel(\"Sepal-length\")\n",
    "    plt.ylabel(\"Sepal-Width\")\n",
    "    plt.scatter(iris_setosa[:,0],iris_setosa[:,1],label = \"Setosa\")\n",
    "    plt.scatter(iris_versicolor[:,0],iris_versicolor[:,1],label = \"Versicolor\")\n",
    "    plt.plot(x_val, y_val,label='Decision Boundary line')\n",
    "    plt.legend()\n",
    "    plt.show()\n",
    "    \n"
   ]
  },
  {
   "cell_type": "code",
   "execution_count": 43,
   "metadata": {},
   "outputs": [
    {
     "data": {
      "image/png": "[encoded data removed]",
      "text/plain": [
       "<Figure size 432x288 with 1 Axes>"
      ]
     },
     "metadata": {
      "needs_background": "light"
     },
     "output_type": "display_data"
    }
   ],
   "source": [
    "x, y = load_iris(return_X_y=True)\n",
    "x=x[:100, :2] # class 0 and 1 balanced\n",
    "y=y[:100]\n",
    "draw_model(coefficients, x, y)    \n"
   ]
  },
  {
   "cell_type": "markdown",
   "metadata": {
    "id": "7eNsYoFL7pOG"
   },
   "source": [
    "### - Naive Bayes Classifier"
   ]
  },
  {
   "cell_type": "code",
   "execution_count": 44,
   "metadata": {
    "id": "f-jO9XrADS92"
   },
   "outputs": [
    {
     "name": "stdout",
     "output_type": "stream",
     "text": [
      "[2 2 2 0 0 0 2 2 1 0 0 2 1 0 2 0 0 1 0 1 0 2 1 1 1 0 2 1 0 0]\n"
     ]
    }
   ],
   "source": [
    "#cross_validation_split\n",
    "def train_test_split(X, y):\n",
    "    ind=np.arange(0,len(X),1)\n",
    "    np.random.shuffle(ind)\n",
    "    x_k1=X[ind[0:30]]\n",
    "    x_k2=X[ind[30:60]]\n",
    "    x_k3=X[ind[60:90]]\n",
    "    x_k4=X[ind[90:120]]\n",
    "    x_k5=X[ind[120:150]]\n",
    "    y_k1=y[ind[0:30]]\n",
    "    y_k2=y[ind[30:60]]\n",
    "    y_k3=y[ind[60:90]]\n",
    "    y_k4=y[ind[90:120]]\n",
    "    y_k5=y[ind[120:150]]\n",
    "#    training_size=0.8*len(X)\n",
    "#    X_train=X[ind[0:int(training_size)]]\n",
    "#    X_test=X[ind[int(training_size):len(ind)]]\n",
    "#    y_train=y[ind[0:int(training_size)]]\n",
    "#    y_test=y[ind[int(training_size):len(ind)]]\n",
    "#    print(y_k2.shape)\n",
    "    return x_k1, x_k2, x_k3, x_k4, x_k5, y_k1, y_k2, y_k3, y_k4, y_k5\n",
    "\n",
    "x, y = load_iris(return_X_y=True)\n",
    "x_k1, x_k2, x_k3, x_k4, x_k5, y_k1, y_k2, y_k3, y_k4, y_k5 = train_test_split(x, y)\n",
    "print(y_k5)"
   ]
  },
  {
   "cell_type": "code",
   "execution_count": 45,
   "metadata": {},
   "outputs": [],
   "source": [
    "def separate_class(X, y):\n",
    "    sep_label = dict()\n",
    "    outcomes=0\n",
    "    for j in range(len(y)):\n",
    "        outcomes=outcomes+1\n",
    "    for i in range(len(X)):\n",
    "        vect = X[i]\n",
    "        class_label = y[i]\n",
    "        if (class_label not in sep_label):\n",
    "            sep_label[class_label] = list()\n",
    "        sep_label[class_label].append(vect)\n",
    "    return sep_label"
   ]
  },
  {
   "cell_type": "code",
   "execution_count": 46,
   "metadata": {},
   "outputs": [
    {
     "name": "stdout",
     "output_type": "stream",
     "text": [
      "[1, 0, 2, 1, 1, 1, 0, 0, 1, 0, 2, 1, 2, 1, 0, 0, 1, 0, 1, 0, 1, 2, 1, 1, 0, 1, 1, 0, 0, 2]\n",
      "[0, 2, 2, 0, 1, 2, 1, 0, 2, 2, 1, 1, 2, 2, 0, 0, 1, 2, 2, 2, 2, 2, 1, 2, 1, 1, 2, 0, 2, 0]\n",
      "[0, 1, 1, 1, 1, 1, 1, 1, 2, 1, 2, 1, 2, 2, 1, 2, 1, 0, 2, 2, 1, 0, 1, 1, 0, 0, 0, 0, 0, 2]\n",
      "[2, 2, 2, 0, 0, 0, 2, 2, 1, 0, 0, 2, 1, 0, 2, 0, 0, 1, 0, 1, 0, 2, 1, 1, 1, 0, 2, 1, 0, 0]\n",
      "[2, 2, 2, 0, 1, 0, 0, 2, 1, 2, 1, 0, 2, 2, 2, 2, 1, 0, 1, 1, 0, 2, 0, 2, 1, 0, 0, 0, 0, 2]\n",
      "96.66666666666667\n",
      "96.66666666666667\n",
      "90.0\n",
      "100.0\n",
      "93.33333333333333\n",
      "Average accuracy score is  95.33333333333334\n"
     ]
    }
   ],
   "source": [
    "from math import exp\n",
    "from math import pi\n",
    "from math import sqrt\n",
    "# Calculate the mean of features\n",
    "def mean(X):\n",
    "    return sum(X)/float(len(X))\n",
    " \n",
    "# Calculate the standard deviation of a list of numbers\n",
    "def stdev(X):\n",
    "    average = mean(X)\n",
    "    variance = sum([(x-average)**2 for x in X]) / float(len(X)-1)\n",
    "    return sqrt(variance)\n",
    " \n",
    "# Calculate the mean, stdev and count for each feature \n",
    "def summarize_dataset(X):\n",
    "    mean_stdev_len = [(mean(column), stdev(column), len(column)) for column in zip(*X)]\n",
    "    return mean_stdev_len\n",
    "\n",
    "# Split dataset by class and calculate mean, variance and std deviation for each row\n",
    "def summarize_class(X, y):\n",
    "    separated = separate_class(X, y)\n",
    "    summaries = dict()\n",
    "    for class_label, rows in separated.items():\n",
    "        summaries[class_label] = summarize_dataset(rows)\n",
    "    return summaries\n",
    "\n",
    "#Gaussian probability function for x\n",
    "def gaussian_prob(x, mean, stdev):\n",
    "    expo = exp(-((x-mean)**2 / (2 * stdev**2 )))\n",
    "    gauss = (1 / (sqrt(2 * pi) * stdev)) * expo\n",
    "    return gauss\n",
    "\n",
    "# Calculate the probabilities of predicting each class for a given row\n",
    "def class_probabilities(summaries, row):\n",
    "    total_rows = sum([summaries[label][0][2] for label in summaries])\n",
    "    probabilities = dict()\n",
    "    for class_label, class_summaries in summaries.items():\n",
    "        probabilities[class_label] = summaries[class_label][0][2]/float(total_rows)\n",
    "        for i in range(len(class_summaries)):\n",
    "            mean, stdev, _ = class_summaries[i]\n",
    "            probabilities[class_label] *= gaussian_prob(row[i], mean, stdev)\n",
    "    return probabilities\n",
    "\n",
    "# Predict the class for a given row\n",
    "def predict(summaries, row):\n",
    "    probabilities = class_probabilities(summaries, row)\n",
    "    best_label, best_prob = None, -1\n",
    "    for class_label, probability in probabilities.items():\n",
    "        if best_label is None or probability > best_prob:\n",
    "            best_prob = probability\n",
    "            best_label = class_label\n",
    "    return best_label\n",
    "\n",
    "# Naive Bayes\n",
    "def naive_bayes(X_train, X_test, y_train, y_test):\n",
    "    summarize = summarize_class(X_train, y_train)\n",
    "    predictions = list()\n",
    "    for row in X_test:\n",
    "        output = predict(summarize, row)\n",
    "        predictions.append(output)\n",
    "    return(predictions)\n",
    "\n",
    "\n",
    "#function to calculate accuracy\n",
    "def accurate(y_actual, y_predicted):\n",
    "    correct = 0\n",
    "    accu_score1 = 0.0\n",
    "    for i in range(len(y_actual)):\n",
    "        if y_actual[i] == y_predicted[i]:\n",
    "            correct = correct + 1\n",
    "        accu_score1 = correct / float(len(y_actual)) * 100.0\n",
    "    return accu_score1\n",
    "#    return correct / float(len(y_actual)) * 100.0\n",
    "\n",
    "predictions_k1 = naive_bayes(x_k1, x_k2, y_k1, y_k2)\n",
    "accu_score_k1 = accurate(y_k2, predictions_k1)\n",
    "predictions_k2 = naive_bayes(x_k2, x_k3, y_k2, y_k3)\n",
    "accu_score_k2 = accurate(y_k3, predictions_k2)\n",
    "predictions_k3 = naive_bayes(x_k3, x_k4, y_k3, y_k4)\n",
    "accu_score_k3 = accurate(y_k4, predictions_k3)\n",
    "predictions_k4 = naive_bayes(x_k4, x_k5, y_k4, y_k5)\n",
    "accu_score_k4 = accurate(y_k5, predictions_k4)\n",
    "predictions_k5 = naive_bayes(x_k5, x_k1, y_k5, y_k1)\n",
    "accu_score_k5 = accurate(y_k1, predictions_k5)\n",
    "\n",
    "\n",
    "\n",
    "\n",
    "\n",
    "\n",
    "print(predictions_k1)\n",
    "print(predictions_k2)\n",
    "print(predictions_k3)\n",
    "print(predictions_k4)\n",
    "print(predictions_k5)\n",
    "print(accu_score_k1)\n",
    "print(accu_score_k2)\n",
    "print(accu_score_k3)\n",
    "print(accu_score_k4)\n",
    "print(accu_score_k5)\n",
    "average_accuracy = (accu_score_k1 + accu_score_k2 + accu_score_k3 + accu_score_k4 + accu_score_k5)/5\n",
    "print(\"Average accuracy score is \",average_accuracy)\n"
   ]
  },
  {
   "cell_type": "code",
   "execution_count": 47,
   "metadata": {},
   "outputs": [],
   "source": [
    "#The accuracy result is above 90% so it indeed is a good score"
   ]
  }
 ],
 "metadata": {
  "colab": {
   "collapsed_sections": [],
   "name": "CS584_Assignment2_Fall2021.ipynb",
   "provenance": []
  },
  "kernelspec": {
   "display_name": "Python 3 (ipykernel)",
   "language": "python",
   "name": "python3"
  },
  "language_info": {
   "codemirror_mode": {
    "name": "ipython",
    "version": 3
   },
   "file_extension": ".py",
   "mimetype": "text/x-python",
   "name": "python",
   "nbconvert_exporter": "python",
   "pygments_lexer": "ipython3",
   "version": "3.9.7"
  },
  "pycharm": {
   "stem_cell": {
    "cell_type": "raw",
    "metadata": {
     "collapsed": false
    },
    "source": []
   }
  }
 },
 "nbformat": 4,
 "nbformat_minor": 1
}
